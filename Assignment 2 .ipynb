{
 "cells": [
  {
   "cell_type": "markdown",
   "id": "071f7026-934e-4cd7-a501-18f28216fd3f",
   "metadata": {},
   "source": [
    "                       Assignment - 2"
   ]
  },
  {
   "cell_type": "markdown",
   "id": "4b5d9fbd-b72d-4864-b56a-8e1848334b99",
   "metadata": {},
   "source": [
    "Question.1 - How do you comment code in Python? What are the different types of comments?"
   ]
  },
  {
   "cell_type": "markdown",
   "id": "d5e1e828-420e-4ca4-87e1-ee8d4bc98896",
   "metadata": {},
   "source": [
    "There are two types of comment in the python :-"
   ]
  },
  {
   "cell_type": "markdown",
   "id": "95ca2110-6ec0-4ce8-ba24-5f8a31e8787c",
   "metadata": {},
   "source": [
    "(1). Single-Line comments\n"
   ]
  },
  {
   "cell_type": "markdown",
   "id": "9a7d3596-f118-429b-b57a-8c9318dbcac5",
   "metadata": {},
   "source": [
    "(2). Multi-Lines comments"
   ]
  },
  {
   "cell_type": "markdown",
   "id": "15990a76-ef6a-48d8-9b71-b5de17b50c4a",
   "metadata": {},
   "source": [
    "Single-Line comments -"
   ]
  },
  {
   "cell_type": "markdown",
   "id": "c6851541-9bb1-4987-be6f-f1b1ba9e85cf",
   "metadata": {},
   "source": [
    "Single-line comments are used to comment on a single line of code. In Python, you can use the '#' symbol to indicate the start of a single-line comment. "
   ]
  },
  {
   "cell_type": "code",
   "execution_count": 9,
   "id": "73532263-b1a4-47c5-95b6-d216773140ae",
   "metadata": {},
   "outputs": [],
   "source": [
    "# My name is Sudhakar Verma"
   ]
  },
  {
   "cell_type": "markdown",
   "id": "2dfb21a9-5d23-4750-bd54-8c666b9883e1",
   "metadata": {},
   "source": [
    "Multi-Line comment -"
   ]
  },
  {
   "cell_type": "markdown",
   "id": "eb7edb07-9bdc-4933-b5ae-c01fb66abe9d",
   "metadata": {},
   "source": [
    "Multi-line comments are often used for documentation, especially for functions, classes, and modules. Python uses triple-quotes (''' or \"\"\") to create multi-line comments, known as docstrings. Docstrings are used to provide more detailed information about the purpose, usage, and parameters of functions, classes, or modules."
   ]
  },
  {
   "cell_type": "code",
   "execution_count": 10,
   "id": "153e0542-06eb-4465-9ee5-9bf1e3fe7896",
   "metadata": {},
   "outputs": [],
   "source": [
    "c = \"\"\" My name is Sudhakar Vema\n",
    "I am currently doing MTech from IIT Guwahati\n",
    "I am from Lucknow,Uttar Pradesh\"\"\""
   ]
  },
  {
   "cell_type": "code",
   "execution_count": 11,
   "id": "3638dbea-c7e5-4c07-80ce-bedf0c2c8ff5",
   "metadata": {},
   "outputs": [
    {
     "data": {
      "text/plain": [
       "' My name is Sudhakar Vema\\nI am currently doing MTech from IIT Guwahati\\nI am from Lucknow,Uttar Pradesh'"
      ]
     },
     "execution_count": 11,
     "metadata": {},
     "output_type": "execute_result"
    }
   ],
   "source": [
    "c"
   ]
  },
  {
   "cell_type": "raw",
   "id": "af1ffd14-3671-44e0-bce5-ecbade855b4f",
   "metadata": {},
   "source": [
    "\n",
    "\n",
    "\n",
    "\n"
   ]
  },
  {
   "cell_type": "markdown",
   "id": "a9d4a087-b9d2-41af-95e4-fc4925bbff1b",
   "metadata": {},
   "source": [
    "Question.2- What are variables in Python? How do you declare and assign values to variables?"
   ]
  },
  {
   "cell_type": "markdown",
   "id": "135cf1c4-6bcf-4237-a5db-e50763dba278",
   "metadata": {},
   "source": [
    "In Python, a variable is a name that you can use to store data. Variables allow you to store and manipulate values or objects within your code. "
   ]
  },
  {
   "cell_type": "markdown",
   "id": "ed111f61-7b21-42c4-b22a-1183c4106e06",
   "metadata": {},
   "source": [
    "To declare and assign values to variables in Python, you typically follow this format:"
   ]
  },
  {
   "cell_type": "code",
   "execution_count": 12,
   "id": "416cb283-7e9d-4702-9a43-00395ec6b861",
   "metadata": {},
   "outputs": [],
   "source": [
    "variable_name = \"Sudhakar Verma\""
   ]
  },
  {
   "cell_type": "markdown",
   "id": "440f331a-24c4-4b78-a291-6f910026e541",
   "metadata": {},
   "source": [
    "Example-"
   ]
  },
  {
   "cell_type": "code",
   "execution_count": 15,
   "id": "49909d4b-65ab-4181-921c-4a3adc6d0ada",
   "metadata": {},
   "outputs": [],
   "source": [
    "l = [5,8,96,\"sudhakar\",True,65.235]\n",
    "l=l[::-1] #assign to reverse the list"
   ]
  },
  {
   "cell_type": "code",
   "execution_count": 16,
   "id": "808b9b02-ec8b-4daa-a4ee-6076e1225fd9",
   "metadata": {},
   "outputs": [
    {
     "data": {
      "text/plain": [
       "[65.235, True, 'sudhakar', 96, 8, 5]"
      ]
     },
     "execution_count": 16,
     "metadata": {},
     "output_type": "execute_result"
    }
   ],
   "source": [
    "l"
   ]
  },
  {
   "cell_type": "markdown",
   "id": "d24d37d6-d9f4-49ee-9f09-86b87d975427",
   "metadata": {},
   "source": [
    "\n",
    "\n",
    "\n",
    "\n"
   ]
  },
  {
   "cell_type": "raw",
   "id": "fd1d7c14-1711-4847-a5f3-b0176d609e16",
   "metadata": {},
   "source": [
    "\n",
    "\n",
    "\n",
    "\n"
   ]
  },
  {
   "cell_type": "markdown",
   "id": "68a7ecfb-dbdd-4a73-844f-f830488c1667",
   "metadata": {},
   "source": [
    "Question.3- How do you convert one data type to another in Python ?"
   ]
  },
  {
   "cell_type": "markdown",
   "id": "e54bc077-d1c7-4f63-975f-6755c8f5a46e",
   "metadata": {},
   "source": [
    "In Python, you can convert one data type to another using type casting or type conversion. Python provides several built-in functions and techniques for this purpose. Here are some common methods for converting data types:"
   ]
  },
  {
   "cell_type": "markdown",
   "id": "eb0d54c2-fd65-45c9-8474-92a15be9ccf6",
   "metadata": {},
   "source": [
    "1. Implicit Type Conversion (Coercion):- Python can automatically perform type conversion in some cases, such as during arithmetic operations"
   ]
  },
  {
   "cell_type": "code",
   "execution_count": 1,
   "id": "8c434e22-b6bf-4819-99ae-caf7a5f598d9",
   "metadata": {},
   "outputs": [],
   "source": [
    "x = 5        # int\n",
    "y = 3.5      # float\n",
    "\n",
    "result = x + y  # x is implicitly converted to float before addition\n"
   ]
  },
  {
   "cell_type": "code",
   "execution_count": 2,
   "id": "08faac97-2c13-4e8c-a44f-3ffd7fde28b9",
   "metadata": {},
   "outputs": [
    {
     "data": {
      "text/plain": [
       "8.5"
      ]
     },
     "execution_count": 2,
     "metadata": {},
     "output_type": "execute_result"
    }
   ],
   "source": [
    "result"
   ]
  },
  {
   "cell_type": "markdown",
   "id": "36943cad-992a-4699-a2c9-b1bcc721580d",
   "metadata": {},
   "source": [
    "2. Explicit Type Conversion (Type Casting):- You can explicitly convert one data type to another using built-in functions. Here are some commonly used functions for explicit type casting:"
   ]
  },
  {
   "cell_type": "markdown",
   "id": "e6ca0531-c0e4-4b60-a268-0ce7649e9cc2",
   "metadata": {},
   "source": [
    "int()-Convert to value in an integer"
   ]
  },
  {
   "cell_type": "code",
   "execution_count": 3,
   "id": "dad6a11f-2686-4836-97a0-341c089c7534",
   "metadata": {},
   "outputs": [],
   "source": [
    "float_num = 45.23\n",
    "int_num = int(float_num)"
   ]
  },
  {
   "cell_type": "code",
   "execution_count": 4,
   "id": "d4cb8fdc-55d3-47f5-a906-c287b411bced",
   "metadata": {},
   "outputs": [
    {
     "data": {
      "text/plain": [
       "45"
      ]
     },
     "execution_count": 4,
     "metadata": {},
     "output_type": "execute_result"
    }
   ],
   "source": [
    "int_num"
   ]
  },
  {
   "cell_type": "markdown",
   "id": "0335a04d-5efd-4989-ab4e-a0d54b8d631d",
   "metadata": {},
   "source": [
    "float(): Converts a value to a floating-point number."
   ]
  },
  {
   "cell_type": "code",
   "execution_count": 5,
   "id": "1252ba37-3bde-42c8-8d78-3d3ad10d27eb",
   "metadata": {},
   "outputs": [],
   "source": [
    "int_num = 69\n",
    "float_num = float(int_num)"
   ]
  },
  {
   "cell_type": "code",
   "execution_count": 6,
   "id": "dae8fd51-07c1-481f-86c3-803f402db589",
   "metadata": {},
   "outputs": [
    {
     "data": {
      "text/plain": [
       "69.0"
      ]
     },
     "execution_count": 6,
     "metadata": {},
     "output_type": "execute_result"
    }
   ],
   "source": [
    "float_num"
   ]
  },
  {
   "cell_type": "markdown",
   "id": "15559caf-37c2-4bfc-95b3-d628d7653815",
   "metadata": {},
   "source": [
    "str(): Converts a value to a string."
   ]
  },
  {
   "cell_type": "code",
   "execution_count": 7,
   "id": "0ffa66a0-ddbc-4205-bb80-4ba4e84993a9",
   "metadata": {},
   "outputs": [],
   "source": [
    "num = 78\n",
    "str_num = str(num)"
   ]
  },
  {
   "cell_type": "code",
   "execution_count": 8,
   "id": "ac26aaf1-3cde-40e8-8977-537768084a18",
   "metadata": {},
   "outputs": [
    {
     "data": {
      "text/plain": [
       "'78'"
      ]
     },
     "execution_count": 8,
     "metadata": {},
     "output_type": "execute_result"
    }
   ],
   "source": [
    "str_num"
   ]
  },
  {
   "cell_type": "markdown",
   "id": "9244cd7f-40e4-4140-bcaf-c494eb23e7de",
   "metadata": {},
   "source": [
    "list(): Converts an iterable (e.g., a tuple, string) to a list."
   ]
  },
  {
   "cell_type": "code",
   "execution_count": 9,
   "id": "704275a2-2902-4a76-8a6e-1cecdef991c8",
   "metadata": {},
   "outputs": [],
   "source": [
    "tuple_value = (1,2,5,3,6,4,8,9,7)\n",
    "list_value = list(tuple_value)"
   ]
  },
  {
   "cell_type": "code",
   "execution_count": 10,
   "id": "4f2acbbd-70d0-49eb-b8ba-6831b3ff9528",
   "metadata": {},
   "outputs": [
    {
     "data": {
      "text/plain": [
       "[1, 2, 5, 3, 6, 4, 8, 9, 7]"
      ]
     },
     "execution_count": 10,
     "metadata": {},
     "output_type": "execute_result"
    }
   ],
   "source": [
    "list_value"
   ]
  },
  {
   "cell_type": "markdown",
   "id": "837bffd4-d2ed-45ad-a340-725409462521",
   "metadata": {},
   "source": [
    "tuple(): Converts a list or other iterable to a tuple."
   ]
  },
  {
   "cell_type": "code",
   "execution_count": 11,
   "id": "6fabb6be-9ca2-43de-827c-ac2a50ed9c86",
   "metadata": {},
   "outputs": [],
   "source": [
    "list_value = [2,5,6,8,9,7,4,3,2,1]\n",
    "tuple_value = tuple(list_value)"
   ]
  },
  {
   "cell_type": "code",
   "execution_count": 12,
   "id": "7b130506-fd0a-4a18-8526-6a0b76bec017",
   "metadata": {},
   "outputs": [
    {
     "data": {
      "text/plain": [
       "(2, 5, 6, 8, 9, 7, 4, 3, 2, 1)"
      ]
     },
     "execution_count": 12,
     "metadata": {},
     "output_type": "execute_result"
    }
   ],
   "source": [
    "tuple_value"
   ]
  },
  {
   "cell_type": "markdown",
   "id": "d1fd1b8d-f4a9-4f06-bbe7-196dad93fa66",
   "metadata": {},
   "source": [
    "set(): Converts a list or other iterable to a set, removing duplicate values."
   ]
  },
  {
   "cell_type": "code",
   "execution_count": 13,
   "id": "ca8b192f-3284-4f6a-949c-93de2538b535",
   "metadata": {},
   "outputs": [],
   "source": [
    "list_value = [2,5,9,8,7,6,3,1]\n",
    "set_value = set(list_value)"
   ]
  },
  {
   "cell_type": "code",
   "execution_count": 14,
   "id": "3068e3b0-f0c1-4eb1-9678-494c5004667e",
   "metadata": {},
   "outputs": [
    {
     "data": {
      "text/plain": [
       "{1, 2, 3, 5, 6, 7, 8, 9}"
      ]
     },
     "execution_count": 14,
     "metadata": {},
     "output_type": "execute_result"
    }
   ],
   "source": [
    "set_value"
   ]
  },
  {
   "cell_type": "markdown",
   "id": "35dfc07c-4e7c-4db1-a8bf-71b340e9bbb2",
   "metadata": {},
   "source": [
    "dict(): Converts a list of key-value pairs (as tuples) to a dictionary."
   ]
  },
  {
   "cell_type": "code",
   "execution_count": 15,
   "id": "43a9812f-4186-4209-a43c-e833451fd8dc",
   "metadata": {},
   "outputs": [],
   "source": [
    "key_value_pairs = [(\"a\", 1), (\"b\", 2), (\"c\", 3)]\n",
    "dictionary = dict(key_value_pairs)\n"
   ]
  },
  {
   "cell_type": "code",
   "execution_count": 16,
   "id": "ceea29d0-9e37-41be-a4bf-9b136c09047c",
   "metadata": {},
   "outputs": [
    {
     "data": {
      "text/plain": [
       "{'a': 1, 'b': 2, 'c': 3}"
      ]
     },
     "execution_count": 16,
     "metadata": {},
     "output_type": "execute_result"
    }
   ],
   "source": [
    "dictionary"
   ]
  },
  {
   "cell_type": "raw",
   "id": "00df9325-d05b-449b-bd05-98db0c1c15ee",
   "metadata": {},
   "source": [
    "\n",
    "\n",
    "\n",
    "\n"
   ]
  },
  {
   "cell_type": "markdown",
   "id": "9b0fd831-cd0f-4763-baf2-9b9f0307023c",
   "metadata": {},
   "source": [
    "Question.4 . How do you write and execute a Python script from the command line?"
   ]
  },
  {
   "cell_type": "markdown",
   "id": "2e2ad6f6-64df-4bc5-b3e7-67f795d09048",
   "metadata": {},
   "source": [
    "Writing a Python Script"
   ]
  },
  {
   "cell_type": "markdown",
   "id": "e30caa20-b504-48c9-9cef-71376708fcf5",
   "metadata": {},
   "source": [
    "(a) . Open a Text Editor:- You can use any text editor of your choice to write your Python script. Popular choices include Notepad (on Windows), TextEdit (on macOS), and editors like Visual Studio Code, Sublime Text, or Atom. Create a new file with a .py extension, which is the standard extension for Python scripts. For example, you can name it myscript.py."
   ]
  },
  {
   "cell_type": "markdown",
   "id": "fc461469-c6d4-4ba4-8590-94f2753608f1",
   "metadata": {},
   "source": [
    "(b). Write Your Python Code:- Open the newly created .py file and write your Python code in it. Here's an example of a simple Python script:"
   ]
  },
  {
   "cell_type": "code",
   "execution_count": 17,
   "id": "fcefc1ef-9f7f-4332-afcd-a5225fe05796",
   "metadata": {},
   "outputs": [
    {
     "name": "stdout",
     "output_type": "stream",
     "text": [
      "Hello, World!\n"
     ]
    }
   ],
   "source": [
    "print(\"Hello, World!\")\n"
   ]
  },
  {
   "cell_type": "markdown",
   "id": "7abb3e47-1306-48ec-975d-8b0bfbdad5b2",
   "metadata": {},
   "source": [
    "(c). Save the File: After writing your code, save the file."
   ]
  },
  {
   "cell_type": "markdown",
   "id": "207bf2ed-fd1f-43ca-8c4d-3594bb3f76e7",
   "metadata": {},
   "source": [
    "Executing the Python Script"
   ]
  },
  {
   "cell_type": "markdown",
   "id": "01549df2-8200-4e8b-bbff-f57169e95a36",
   "metadata": {},
   "source": [
    "(a). Open the Command Line or Terminal :- Now, open your command line or terminal application. The method for opening the command line varies depending on your operating system"
   ]
  },
  {
   "cell_type": "markdown",
   "id": "0ab347b2-c1d5-4bfd-9976-29e4b0b6e119",
   "metadata": {},
   "source": [
    "(b). Navigate to the Script's Directory :- You need to navigate to the directory where your Python script is saved. "
   ]
  },
  {
   "cell_type": "markdown",
   "id": "bb7f6d1c-87fa-48b1-9ce2-faf622aafb59",
   "metadata": {},
   "source": [
    "(c). Execute the Python Script"
   ]
  },
  {
   "cell_type": "markdown",
   "id": "dca193e4-e417-4593-bd62-2559c68d0748",
   "metadata": {},
   "source": [
    "(d). View the output"
   ]
  },
  {
   "cell_type": "raw",
   "id": "f2e419bd-3c94-4631-a254-5af74ca41967",
   "metadata": {},
   "source": [
    "\n",
    "\n",
    "\n",
    "\n"
   ]
  },
  {
   "cell_type": "markdown",
   "id": "eb6e47a5-60da-4f04-905b-2ad714efcd22",
   "metadata": {},
   "source": [
    "Question. 5 - . Given a list my_list = [1, 2, 3, 4, 5], write the code to slice the list and obtain the sub-list [2, 3]."
   ]
  },
  {
   "cell_type": "code",
   "execution_count": 22,
   "id": "9f6d40ad-a791-4829-83cc-5dd32f261da4",
   "metadata": {},
   "outputs": [],
   "source": [
    "my_list = [1, 2, 3, 4, 5]\n",
    "sub_list = my_list[1:3]"
   ]
  },
  {
   "cell_type": "code",
   "execution_count": 23,
   "id": "1110e559-6a6c-4d2c-b13b-8dac79b079b8",
   "metadata": {},
   "outputs": [
    {
     "data": {
      "text/plain": [
       "[2, 3]"
      ]
     },
     "execution_count": 23,
     "metadata": {},
     "output_type": "execute_result"
    }
   ],
   "source": [
    "sub_list"
   ]
  },
  {
   "cell_type": "raw",
   "id": "448eb73d-1b33-4746-b337-d5956d4f6e4a",
   "metadata": {},
   "source": [
    "\n",
    "\n",
    "\n",
    "\n"
   ]
  },
  {
   "cell_type": "markdown",
   "id": "8ee86b08-565d-4881-9c86-18bf99d4a7cc",
   "metadata": {},
   "source": [
    "Quedtion.6 -  What is a complex number in mathematics, and how is it represented in Python?"
   ]
  },
  {
   "cell_type": "markdown",
   "id": "8529dd00-1f84-4d76-b3d8-8a1f62b7a384",
   "metadata": {},
   "source": [
    "In mathematics, a complex number is a number that can be expressed in the form \"a + bi,\" where \"a\" and \"b\" are real numbers, and \"i\" is the imaginary unit, defined as the square root of -1. Complex numbers are used to represent quantities involving both a real part (a) and an imaginary part (bi)."
   ]
  },
  {
   "cell_type": "markdown",
   "id": "28be57e8-0314-405a-af20-f2b83d4de780",
   "metadata": {},
   "source": [
    "In Python, you can represent complex numbers using the complex data type. Complex numbers are written with a real part followed by an optional imaginary part, separated by the character \"j\" to denote the imaginary unit. Here's how you can create a complex number in Python:"
   ]
  },
  {
   "cell_type": "code",
   "execution_count": 24,
   "id": "231fd772-5f35-4703-bbd2-8e0fd184b6df",
   "metadata": {},
   "outputs": [],
   "source": [
    "a = 5+7j"
   ]
  },
  {
   "cell_type": "code",
   "execution_count": 26,
   "id": "785a3eaf-b91d-4929-b0f7-c0331cf419b1",
   "metadata": {},
   "outputs": [
    {
     "data": {
      "text/plain": [
       "5.0"
      ]
     },
     "execution_count": 26,
     "metadata": {},
     "output_type": "execute_result"
    }
   ],
   "source": [
    "a.real"
   ]
  },
  {
   "cell_type": "code",
   "execution_count": 27,
   "id": "c4aab09f-498f-49c5-a446-46cf6e6d3621",
   "metadata": {},
   "outputs": [
    {
     "data": {
      "text/plain": [
       "7.0"
      ]
     },
     "execution_count": 27,
     "metadata": {},
     "output_type": "execute_result"
    }
   ],
   "source": [
    "a.imag"
   ]
  },
  {
   "cell_type": "raw",
   "id": "aedbc6d9-7929-4f83-9bfe-a490af7afbfd",
   "metadata": {},
   "source": [
    "\n",
    "\n",
    "\n",
    "\n"
   ]
  },
  {
   "cell_type": "markdown",
   "id": "f833fefc-9e65-4b38-ba9f-e7ab72d267d9",
   "metadata": {},
   "source": [
    " Question. 7-  What is the correct way to declare a variable named age and assign the value 25 to it ?  "
   ]
  },
  {
   "cell_type": "markdown",
   "id": "d7e15571-708c-474a-9259-36bcfe43d2b5",
   "metadata": {},
   "source": [
    "Python is a dynamically typed language, so you don't need to specify the data type when declaring variables. The variable age will automatically be assigned the appropriate data type based on the value you assign to it, in this case, an integer."
   ]
  },
  {
   "cell_type": "code",
   "execution_count": 34,
   "id": "a00a073d-d014-43ca-8dd3-814dc654f2f4",
   "metadata": {},
   "outputs": [],
   "source": [
    "age = 25"
   ]
  },
  {
   "cell_type": "markdown",
   "id": "d54c1781-29d8-4dad-b8fd-a615b47e7689",
   "metadata": {},
   "source": [
    "In Python, you can declare a variable named age and assign the value 25 to it using the following code:"
   ]
  },
  {
   "cell_type": "code",
   "execution_count": 35,
   "id": "83563ab2-3e26-4df5-bb6f-b9f62cb4c697",
   "metadata": {},
   "outputs": [],
   "source": [
    "l=[2,5,9,8,7,\"sudhakar\",True,55.5,\"age\"]"
   ]
  },
  {
   "cell_type": "code",
   "execution_count": 36,
   "id": "83d1bc78-9b6a-4bb0-a3c4-e3ea88731814",
   "metadata": {},
   "outputs": [],
   "source": [
    "l[-1]=25"
   ]
  },
  {
   "cell_type": "code",
   "execution_count": 37,
   "id": "202a48a3-51cd-40dc-8a17-85a4d63da027",
   "metadata": {},
   "outputs": [
    {
     "data": {
      "text/plain": [
       "[2, 5, 9, 8, 7, 'sudhakar', True, 55.5, 25]"
      ]
     },
     "execution_count": 37,
     "metadata": {},
     "output_type": "execute_result"
    }
   ],
   "source": [
    "l"
   ]
  },
  {
   "cell_type": "raw",
   "id": "35d7244a-312e-4216-972c-f63933778fb2",
   "metadata": {},
   "source": [
    "\n",
    "\n",
    "\n",
    "\n",
    "\n"
   ]
  },
  {
   "cell_type": "markdown",
   "id": "342d22c8-c438-470b-9f5e-fdcd3121b521",
   "metadata": {},
   "source": [
    "Question.8-  Declare a variable named price and assign the value 9.99 to it. What data type does this variable\n",
    "belong to?"
   ]
  },
  {
   "cell_type": "code",
   "execution_count": 39,
   "id": "4f709b2d-5972-4f83-803f-d6c873eb19a1",
   "metadata": {},
   "outputs": [],
   "source": [
    "price = 9.99"
   ]
  },
  {
   "cell_type": "markdown",
   "id": "35acd8d8-9560-4adb-891f-f3b742f9c75d",
   "metadata": {},
   "source": [
    "The variable price is assigned the value 9.99. In Python, this variable belongs to the data type \"float.\" The data type float represents decimal numbers (numbers with a fractional part), and it is commonly used for values with decimal points like 9.99."
   ]
  },
  {
   "cell_type": "raw",
   "id": "7aaadb73-2638-4b3f-80cb-eb237f5426c6",
   "metadata": {},
   "source": [
    "\n",
    "\n",
    "\n",
    "\n",
    "\n"
   ]
  },
  {
   "cell_type": "markdown",
   "id": "d662a68d-3e9e-4ed1-b8ea-eb8f55fcd173",
   "metadata": {},
   "source": [
    "Question.9- . Create a variable named name and assign your full name to it as a string. How would you print the\n",
    "value of this variable?"
   ]
  },
  {
   "cell_type": "code",
   "execution_count": 40,
   "id": "1fa7cfce-47a4-4b19-9b6f-2592cb3367e5",
   "metadata": {},
   "outputs": [
    {
     "name": "stdout",
     "output_type": "stream",
     "text": [
      "sudhakar verma\n"
     ]
    }
   ],
   "source": [
    "name = \"sudhakar verma\"\n",
    "print(name)"
   ]
  },
  {
   "cell_type": "raw",
   "id": "39133f1f-406b-4e08-95a4-6d91b82383b4",
   "metadata": {},
   "source": [
    "\n",
    "\n",
    "\n",
    "\n",
    "\n"
   ]
  },
  {
   "cell_type": "markdown",
   "id": "bc02b788-8b00-44b1-bc1d-bd0ab94ca8b1",
   "metadata": {},
   "source": [
    "Question.10- . Given the string \"Hello, World!\", extract the substring \"World\"."
   ]
  },
  {
   "cell_type": "code",
   "execution_count": 41,
   "id": "341d26d0-416c-4107-8370-cdf8c7655c5f",
   "metadata": {},
   "outputs": [
    {
     "name": "stdout",
     "output_type": "stream",
     "text": [
      "World\n"
     ]
    }
   ],
   "source": [
    "text = \"Hello, World!\"\n",
    "substring = text[7:12]\n",
    "print(substring)"
   ]
  },
  {
   "cell_type": "raw",
   "id": "b0f0a83e-a474-45c6-9313-7138a70f2e0d",
   "metadata": {},
   "source": [
    "\n",
    "\n",
    "\n",
    "\n"
   ]
  },
  {
   "cell_type": "markdown",
   "id": "7ce27e09-0386-4694-859f-9d6e3be69414",
   "metadata": {},
   "source": [
    "Question.11- . Create a variable named \"is_student\" and assign it a boolean value indicating whether you are\n",
    "currently a student or not."
   ]
  },
  {
   "cell_type": "code",
   "execution_count": 42,
   "id": "3c178605-1d3a-43ae-b1e4-7ca309d8c661",
   "metadata": {},
   "outputs": [],
   "source": [
    "is_student = True  # If you are a student\n",
    "# or\n",
    "is_student = False  # If you are not a student\n"
   ]
  }
 ],
 "metadata": {
  "kernelspec": {
   "display_name": "Python 3 (ipykernel)",
   "language": "python",
   "name": "python3"
  },
  "language_info": {
   "codemirror_mode": {
    "name": "ipython",
    "version": 3
   },
   "file_extension": ".py",
   "mimetype": "text/x-python",
   "name": "python",
   "nbconvert_exporter": "python",
   "pygments_lexer": "ipython3",
   "version": "3.10.8"
  }
 },
 "nbformat": 4,
 "nbformat_minor": 5
}
